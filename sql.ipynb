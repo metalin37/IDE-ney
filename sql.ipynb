{
 "cells": [
  {
   "cell_type": "code",
   "execution_count": 1,
   "metadata": {
    "vscode": {
     "languageId": "sql"
    }
   },
   "outputs": [
    {
     "ename": "IndentationError",
     "evalue": "unexpected indent (3775660766.py, line 2)",
     "output_type": "error",
     "traceback": [
      "\u001b[0;36m  Cell \u001b[0;32mIn [1], line 2\u001b[0;36m\u001b[0m\n\u001b[0;31m    movie_title,\u001b[0m\n\u001b[0m    ^\u001b[0m\n\u001b[0;31mIndentationError\u001b[0m\u001b[0;31m:\u001b[0m unexpected indent\n"
     ]
    }
   ],
   "source": [
    "SELECT\n",
    "    столбец1 AS новое_название,\n",
    "    столбец2,\n",
    "    столбец3\n",
    "FROM таблица\n",
    "WHERE (условие1 OR условие2)                                                BETWEEN: условие AND условие выбирает промежуток между 2 мя условиями\n",
    "    AND условие3                                                            NOT переворачивает условие  IN (условие, условие) заменяет конструкцию с OR\n",
    "ORDER BY сортировка1 ASC(по возрастания), сортировка2 DESC (по убыванию)    LIKE 'А%' позволяет получить данные по имени LIKE '____________' ограничит по длинне символов\n",
    "OFFSET 1 LIMIT 2                                                            IS NULL выводит пустые значения применяя к столбцу  \n",
    "                                                                            NULLS FIRST / NULLS LAST. сортировка пустых значений"
   ]
  },
  {
   "cell_type": "markdown",
   "metadata": {},
   "source": []
  }
 ],
 "metadata": {
  "kernelspec": {
   "display_name": "Python 3",
   "language": "python",
   "name": "python3"
  },
  "language_info": {
   "codemirror_mode": {
    "name": "ipython",
    "version": 3
   },
   "file_extension": ".py",
   "mimetype": "text/x-python",
   "name": "python",
   "nbconvert_exporter": "python",
   "pygments_lexer": "ipython3",
   "version": "3.10.7 (v3.10.7:6cc6b13308, Sep  5 2022, 14:02:52) [Clang 13.0.0 (clang-1300.0.29.30)]"
  },
  "orig_nbformat": 4,
  "vscode": {
   "interpreter": {
    "hash": "aee8b7b246df8f9039afb4144a1f6fd8d2ca17a180786b69acc140d282b71a49"
   }
  }
 },
 "nbformat": 4,
 "nbformat_minor": 2
}
