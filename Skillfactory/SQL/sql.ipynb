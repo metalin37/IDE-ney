{
 "cells": [
  {
   "cell_type": "code",
   "execution_count": null,
   "metadata": {
    "vscode": {
     "languageId": "sql"
    }
   },
   "outputs": [],
   "source": [
    "SELECT\n",
    "    столбец1 AS новое_название,\n",
    "    столбец2,\n",
    "    столбец3\n",
    "FROM таблица\n",
    "WHERE (условие1 OR условие2)                                                BETWEEN: условие AND условие выбирает промежуток между 2 мя условиями\n",
    "    AND условие3                                                            NOT переворачивает условие  IN (условие, условие) заменяет конструкцию с OR\n",
    "ORDER BY сортировка1 ASC(по возрастания), сортировка2 DESC (по убыванию)    LIKE 'А%' позволяет получить данные по имени LIKE '____________' ограничит по длинне символов\n",
    "OFFSET 1 LIMIT 2                                                            IS NULL выводит пустые значения применяя к столбцу  \n",
    "                                                                            NULLS FIRST / NULLS LAST. сортировка пустых значений"
   ]
  },
  {
   "attachments": {},
   "cell_type": "markdown",
   "metadata": {},
   "source": [
    "Чтобы получить уникальные значения из столбца, воспользуемся ключевым словом DISTINCT."
   ]
  },
  {
   "cell_type": "code",
   "execution_count": null,
   "metadata": {
    "vscode": {
     "languageId": "sql"
    }
   },
   "outputs": [],
   "source": [
    "SELECT DISTINCT (можно применять к нескольким столбцам)\n",
    "    type1\n",
    "FROM sql.pokemon"
   ]
  },
  {
   "attachments": {},
   "cell_type": "markdown",
   "metadata": {},
   "source": [
    "COUNT считает строки, а звёздочка (*) в аргументе функции означает, что считаются все строки, которые возвращает запрос."
   ]
  },
  {
   "cell_type": "code",
   "execution_count": null,
   "metadata": {
    "vscode": {
     "languageId": "sql"
    }
   },
   "outputs": [],
   "source": [
    "SELECT\n",
    "    COUNT(*)\n",
    "FROM sql.pokemon"
   ]
  },
  {
   "attachments": {},
   "cell_type": "markdown",
   "metadata": {},
   "source": [
    "Внутри функции COUNT мы можем также применять DISTINCT, чтобы вычислить количество уникальных значений."
   ]
  },
  {
   "cell_type": "code",
   "execution_count": null,
   "metadata": {
    "vscode": {
     "languageId": "sql"
    }
   },
   "outputs": [],
   "source": [
    "SELECT\n",
    "    COUNT(DISTINCT type1)\n",
    "FROM sql.pokemon"
   ]
  },
  {
   "attachments": {},
   "cell_type": "markdown",
   "metadata": {},
   "source": [
    "Назовём основные агрегатные функции, с которыми нам предстоит работать:\n",
    "\n",
    "COUNT — вычисляет число непустых строк;\n",
    "\n",
    "SUM — вычисляет сумму;\n",
    "\n",
    "AVG — вычисляет среднее;\n",
    "\n",
    "MAX — вычисляет максимум;\n",
    "\n",
    "MIN — вычисляет минимум."
   ]
  },
  {
   "cell_type": "code",
   "execution_count": null,
   "metadata": {
    "vscode": {
     "languageId": "sql"
    }
   },
   "outputs": [],
   "source": [
    "SELECT\n",
    "    COUNT(*) AS \"всего травяных покемонов\",\n",
    "    COUNT(type2) AS \"покемонов с дополнительным типом\",\n",
    "    AVG(attack) AS \"средняя атака\",\n",
    "    AVG(defense) AS \"средняя защита\"\n",
    "FROM sql.pokemon\n",
    "WHERE type1 = 'Grass'"
   ]
  },
  {
   "attachments": {},
   "cell_type": "markdown",
   "metadata": {},
   "source": [
    "Напишите запрос, который выведет:\n",
    "\n",
    "количество покемонов (столбец pokemon_count),\n",
    "среднюю скорость (столбец avg_speed),\n",
    "максимальное и минимальное число очков здоровья (столбцы max_hp и min_hp)\n",
    "для электрических (Electric) покемонов, имеющих дополнительный тип и, показатели атаки или защиты больше 50."
   ]
  },
  {
   "cell_type": "code",
   "execution_count": null,
   "metadata": {
    "vscode": {
     "languageId": "sql"
    }
   },
   "outputs": [],
   "source": [
    "SELECT\n",
    "    COUNT(*) AS \"pokemon_count\",\n",
    "    AVG (speed) AS \"avg_speed\",\n",
    "    MAX (hp) AS \"max_hp\",\n",
    "    MIN (hp) AS \"min_hp\"\n",
    "FROM sql.pokemon\n",
    "WHERE type2 IS NOT NULL AND type1 = 'Electric'\n",
    "    AND (attack > '50' or defense > '50')"
   ]
  },
  {
   "attachments": {},
   "cell_type": "markdown",
   "metadata": {},
   "source": [
    "                                    ГРУППИРОВКА"
   ]
  },
  {
   "attachments": {},
   "cell_type": "markdown",
   "metadata": {},
   "source": [
    "Выведем число покемонов каждого типа."
   ]
  },
  {
   "cell_type": "code",
   "execution_count": null,
   "metadata": {
    "vscode": {
     "languageId": "sql"
    }
   },
   "outputs": [],
   "source": [
    "SELECT /*выбор*/\n",
    "    type1 AS pokemon_type, /*столбец type1; присвоить алиас pokemon_type*/\n",
    "    COUNT(*) AS pokemon_count /*подсчёт всех строк; присвоить алиас pokemon_count*/\n",
    "FROM sql.pokemon /*из таблицы sql.pokemon*/\n",
    "GROUP BY type1 /*группировка по столбцу type1*/\n",
    "ORDER BY type1 /*сортировка по столбцу type1*/"
   ]
  },
  {
   "attachments": {},
   "cell_type": "markdown",
   "metadata": {},
   "source": [
    "Представим ТОП существующих типов покемонов."
   ]
  },
  {
   "cell_type": "code",
   "execution_count": null,
   "metadata": {
    "vscode": {
     "languageId": "sql"
    }
   },
   "outputs": [],
   "source": [
    "SELECT\n",
    "    type1 AS pokemon_type,\n",
    "    COUNT(*) AS pokemon_count\n",
    "FROM sql.pokemon\n",
    "GROUP BY pokemon_type\n",
    "ORDER BY COUNT(*) DESC"
   ]
  },
  {
   "attachments": {},
   "cell_type": "markdown",
   "metadata": {},
   "source": [
    "Напишите запрос, который выведет:\n",
    "\n",
    "число различных дополнительных типов (столбец additional_types_count),\n",
    "среднее число очков здоровья (столбец avg_hp),\n",
    "сумму показателей атаки (столбец attack_sum) в разбивке по основным типам (столбец primary_type).\n",
    "Отсортируйте результат по числу дополнительных типов в порядке убывания, при равенстве — по основному типу в алфавитном порядке. Столбцы к выводу (обратите внимание на порядок!): primary_type, additional_types_count, avg_hp, attack_sum."
   ]
  },
  {
   "cell_type": "code",
   "execution_count": null,
   "metadata": {
    "vscode": {
     "languageId": "sql"
    }
   },
   "outputs": [],
   "source": [
    "SELECT\n",
    "    DISTINCT type1 AS primary_type,\n",
    "    COUNT(DISTINCT type2) AS additional_types_count,\n",
    "    AVG (hp) AS avg_hp,\n",
    "    SUM (attack) AS attack_sum\n",
    "FROM sql.pokemon\n",
    "GROUP BY primary_type --группируем результат по столбцу\n",
    "ORDER BY additional_types_count DESC, type1"
   ]
  },
  {
   "attachments": {},
   "cell_type": "markdown",
   "metadata": {},
   "source": [
    "Мы можем осуществлять группировку по нескольким столбцам."
   ]
  },
  {
   "cell_type": "code",
   "execution_count": null,
   "metadata": {
    "vscode": {
     "languageId": "sql"
    }
   },
   "outputs": [],
   "source": [
    "SELECT\n",
    "    type1 AS primary_type,\n",
    "    type2 AS additional_type,\n",
    "    COUNT(*) AS pokemon_count\n",
    "FROM sql.pokemon\n",
    "GROUP BY 1, 2\n",
    "ORDER BY 1, 2 NULLS FIRST"
   ]
  },
  {
   "attachments": {},
   "cell_type": "markdown",
   "metadata": {},
   "source": [
    "GROUP BY можно использовать и без агрегатных функций. Тогда его действие будет равносильно действию DISTINCT.\n",
    "\n",
    "Сравните выводы двух запросов:"
   ]
  },
  {
   "cell_type": "code",
   "execution_count": null,
   "metadata": {
    "vscode": {
     "languageId": "sql"
    }
   },
   "outputs": [],
   "source": [
    "SELECT DISTINCT \n",
    "    type1\n",
    "FROM sql.pokemon"
   ]
  },
  {
   "cell_type": "code",
   "execution_count": null,
   "metadata": {
    "vscode": {
     "languageId": "sql"
    }
   },
   "outputs": [],
   "source": [
    "SELECT\n",
    "    type1\n",
    "FROM sql.pokemon\n",
    "GROUP BY type1"
   ]
  },
  {
   "attachments": {},
   "cell_type": "markdown",
   "metadata": {},
   "source": [
    "Если ключевое слово WHERE определяет фильтрацию строк до агрегирования, то для фильтрации уже агрегированных данных применяется ключевое слово HAVING. Важно! HAVING обязательно пишется после GROUP BY."
   ]
  },
  {
   "attachments": {},
   "cell_type": "markdown",
   "metadata": {},
   "source": [
    "Выведем типы покемонов и их средний показатель атаки, при этом оставим только тех, у кого средняя атака больше 90."
   ]
  },
  {
   "cell_type": "code",
   "execution_count": null,
   "metadata": {
    "vscode": {
     "languageId": "sql"
    }
   },
   "outputs": [],
   "source": [
    "SELECT /*выбор*/\n",
    "    type1 AS primary_type, /*таблица type1; присвоить алиас primary_type*/\n",
    "    AVG(attack) AS avg_attack /*расчёт среднего по столбцу attack; присвоить алиас avg_attack*/\n",
    "FROM sql.pokemon /*из таблицы sql.pokemon*/\n",
    "GROUP BY primary_type /*группировать по столбцу primary_type*/\n",
    "HAVING AVG(attack) > 90 /*фильтровать по среднему значению attack, превышающему 90*/\n"
   ]
  },
  {
   "attachments": {},
   "cell_type": "markdown",
   "metadata": {},
   "source": [
    "В общем виде синтаксис оператора SELECT, с учётом имеющихся на данный момент знаний, представляем следующим образом:"
   ]
  },
  {
   "cell_type": "code",
   "execution_count": null,
   "metadata": {
    "vscode": {
     "languageId": "sql"
    }
   },
   "outputs": [],
   "source": [
    "SELECT [ALL | DISTINCT] список_столбцов|*\n",
    "FROM список_имён_таблиц\n",
    "[WHERE условие_поиска]\n",
    "[GROUP BY список_имён_столбцов]\n",
    "[HAVING условие_поиска]\n",
    "[ORDER BY имя_столбца [ASC | DESC],…]"
   ]
  },
  {
   "attachments": {},
   "cell_type": "markdown",
   "metadata": {},
   "source": [
    "Напишите запрос, чтобы для покемонов, чьё имя (name) начинается с S, вывести столбцы с их основным типом (primary_type) и общим числом покемонов этого типа (pokemon_count). Оставьте только те типы, у которых средний показатель защиты больше 80. Выведите топ-3 типов по числу покемонов в них."
   ]
  },
  {
   "cell_type": "code",
   "execution_count": null,
   "metadata": {
    "vscode": {
     "languageId": "sql"
    }
   },
   "outputs": [],
   "source": [
    "SELECT\n",
    "    type1 AS primary_type,\n",
    "    count(type1) AS pokemon_count\n",
    "FROM sql.pokemon\n",
    "WHERE name LIKE 'S%'\n",
    "GROUP BY primary_type\n",
    "HAVING AVG(defense) > 80\n",
    "ORDER BY pokemon_count DESC\n",
    "OFFSET 0 LIMIT 3"
   ]
  },
  {
   "attachments": {},
   "cell_type": "markdown",
   "metadata": {},
   "source": [
    "И в довершение итогов напомним структуру запроса, который мы можем составить с учётом новых знаний:"
   ]
  },
  {
   "cell_type": "code",
   "execution_count": null,
   "metadata": {
    "vscode": {
     "languageId": "sql"
    }
   },
   "outputs": [],
   "source": [
    "SELECT\n",
    "    столбец1 AS новое_название,\n",
    "    столбец2,\n",
    "    АГРЕГАТ(столбец3)\n",
    "FROM таблица\n",
    "WHERE (условие1 OR условие2)\n",
    "    AND условие3\n",
    "GROUP BY столбец1, столбец2\n",
    "HAVING АГРЕГАТ(столбец3) > 5\n",
    "ORDER BY сортировка1, сортировка2\n",
    "OFFSET 1 LIMIT 2"
   ]
  },
  {
   "attachments": {},
   "cell_type": "markdown",
   "metadata": {},
   "source": [
    "Напишите запрос, который выведет основной и дополнительный типы покемонов и средние значения по каждому показателю (столбцы avg_hp, avg_attack, avg_defense, avg_speed).Оставьте только те пары типов, у которых сумма этих четырёх показателей более 400."
   ]
  },
  {
   "cell_type": "code",
   "execution_count": null,
   "metadata": {
    "vscode": {
     "languageId": "sql"
    }
   },
   "outputs": [],
   "source": [
    "SELECT \n",
    "    type1,\n",
    "    type2,\n",
    "    AVG(hp) AS avg_hp,\n",
    "    AVG(attack) AS avg_attack, \n",
    "    AVG(defense) AS avg_defense,\n",
    "    AVG(speed) AS avg_speed\n",
    "FROM sql.pokemon\n",
    "GROUP BY type1, type2\n",
    "HAVING (AVG(hp)+AVG(attack)+AVG(defense)+AVG(speed)) > 400"
   ]
  },
  {
   "attachments": {},
   "cell_type": "markdown",
   "metadata": {},
   "source": [
    "Напишите запрос, который выведет столбцы с основным типом покемона и общим количеством покемонов этого типа. Учитывайте только тех покемонов, у кого или показатель атаки, или показатель защиты принимает значение между 50 и 100 включительно. Оставьте только те типы покемонов, у которых максимальный показатель здоровья не больше 125. Выведите только тот тип, который находится на пятом месте по количеству покемонов."
   ]
  },
  {
   "cell_type": "code",
   "execution_count": null,
   "metadata": {
    "vscode": {
     "languageId": "sql"
    }
   },
   "outputs": [],
   "source": [
    "SELECT \n",
    "    type1,\n",
    "    count(type1)\n",
    "FROM sql.pokemon\n",
    "WHERE ((attack BETWEEN 50 AND 100) OR (defense BETWEEN 50 AND 100))\n",
    "GROUP BY type1\n",
    "HAVING MAX(hp) <125\n",
    "ORDER BY count DESC\n",
    "OFFSET 4 LIMIT 1"
   ]
  }
 ],
 "metadata": {
  "kernelspec": {
   "display_name": "Python 3",
   "language": "python",
   "name": "python3"
  },
  "language_info": {
   "codemirror_mode": {
    "name": "ipython",
    "version": 3
   },
   "file_extension": ".py",
   "mimetype": "text/x-python",
   "name": "python",
   "nbconvert_exporter": "python",
   "pygments_lexer": "ipython3",
   "version": "3.10.7 (v3.10.7:6cc6b13308, Sep  5 2022, 14:02:52) [Clang 13.0.0 (clang-1300.0.29.30)]"
  },
  "orig_nbformat": 4,
  "vscode": {
   "interpreter": {
    "hash": "aee8b7b246df8f9039afb4144a1f6fd8d2ca17a180786b69acc140d282b71a49"
   }
  }
 },
 "nbformat": 4,
 "nbformat_minor": 2
}
